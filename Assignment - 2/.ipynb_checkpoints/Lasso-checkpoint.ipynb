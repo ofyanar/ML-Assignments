{
 "cells": [
  {
   "cell_type": "markdown",
   "id": "69b5174d",
   "metadata": {},
   "source": [
    "# Answers"
   ]
  },
  {
   "cell_type": "markdown",
   "id": "0ea20248",
   "metadata": {},
   "source": [
    "# Questions 1 - 2"
   ]
  },
  {
   "cell_type": "markdown",
   "id": "020a0691",
   "metadata": {},
   "source": [
    "## loading and splitting load_diabetes dataset from scikit-learn"
   ]
  },
  {
   "cell_type": "code",
   "execution_count": 83,
   "id": "59ed358a",
   "metadata": {},
   "outputs": [],
   "source": [
    "from sklearn.datasets import load_diabetes\n",
    "from sklearn.model_selection import train_test_split\n",
    "\n",
    "diabetes = load_diabetes()\n",
    "X_train, X_test, y_train, y_test = train_test_split(diabetes.data, \n",
    "                                                   diabetes.target, random_state = 13)"
   ]
  },
  {
   "cell_type": "markdown",
   "id": "8df4ce19",
   "metadata": {},
   "source": [
    "# Question 3"
   ]
  },
  {
   "cell_type": "code",
   "execution_count": 84,
   "id": "a97ce629",
   "metadata": {},
   "outputs": [],
   "source": [
    "import matplotlib.pyplot as plt\n",
    "import numpy as np\n",
    "from sklearn.linear_model import Lasso\n",
    "\n",
    "lasso = Lasso().fit(X_train, y_train)"
   ]
  },
  {
   "cell_type": "markdown",
   "id": "6f87c1a5",
   "metadata": {},
   "source": [
    " ### The number of features used by lasso can be retreived using coef_, the size of which is the same as features used. This number is the same for both the training and the test sets. The names of features can be found using feature_names:"
   ]
  },
  {
   "cell_type": "code",
   "execution_count": 85,
   "id": "1a5f6d93",
   "metadata": {},
   "outputs": [
    {
     "name": "stdout",
     "output_type": "stream",
     "text": [
      "There are 3 features used by lasso for diabetes_load.\n",
      "And their names are: bmi, bp, s5\n"
     ]
    }
   ],
   "source": [
    "num_feats = np.sum(lasso.coef_ != 0)\n",
    "\n",
    "names = []\n",
    "for i in range(len(diabetes.feature_names)):\n",
    "    if lasso.coef_[i] != 0: \n",
    "        names.append(diabetes.feature_names[i])\n",
    "names = \", \".join(names)\n",
    "print(\"There are \" + str(num_feats) + \" features used by lasso for diabetes_load.\")\n",
    "print(\"And their names are: \" + names)"
   ]
  },
  {
   "cell_type": "markdown",
   "id": "2afc5e64",
   "metadata": {},
   "source": [
    "### The coefficient of determination values for training and test sets are stored under appropriate variable names below:"
   ]
  },
  {
   "cell_type": "code",
   "execution_count": 86,
   "id": "cba57ceb",
   "metadata": {},
   "outputs": [],
   "source": [
    "cd_train = lasso.score(X_train, y_train)\n",
    "cd_test = lasso.score(X_test, y_test)"
   ]
  },
  {
   "cell_type": "code",
   "execution_count": 87,
   "id": "66c4c837",
   "metadata": {},
   "outputs": [
    {
     "name": "stdout",
     "output_type": "stream",
     "text": [
      "The training coefficient of determination for load_diabetes is: 0.3762122247795391\n",
      "The test coefficient of determination for load_diabetes is: 0.359767640353562\n"
     ]
    }
   ],
   "source": [
    "print(\"The training coefficient of determination for load_diabetes is: \" + str(cd_train))\n",
    "print(\"The test coefficient of determination for load_diabetes is: \" + str(cd_test))"
   ]
  },
  {
   "cell_type": "markdown",
   "id": "8c447d30",
   "metadata": {},
   "source": [
    "# Questions 4 - 6\n"
   ]
  },
  {
   "cell_type": "markdown",
   "id": "df1edeef",
   "metadata": {},
   "source": [
    "## Loading and splitting diabetes.data"
   ]
  },
  {
   "cell_type": "code",
   "execution_count": 88,
   "id": "84ed1472",
   "metadata": {
    "scrolled": true
   },
   "outputs": [],
   "source": [
    "new_diabetes_X = np.genfromtxt(\"diabetes.data\", delimiter = \"\", usecols = np.arange(10), skip_header = 1)\n",
    "new_diabetes_y = np.genfromtxt(\"diabetes.data\", delimiter = \"\", usecols = 10, skip_header = 1)\n",
    "\n",
    "new_X_train, new_X_test, new_y_train, new_y_test = train_test_split(new_diabetes_X, \n",
    "                                                   new_diabetes_y, random_state = 13)\n",
    "\n",
    "new_lasso = Lasso().fit(new_X_train, new_y_train)"
   ]
  },
  {
   "cell_type": "markdown",
   "id": "8680dbd4",
   "metadata": {},
   "source": [
    "### The features used by lasso for diabetes.data is identical to what it uses for load_diabetes:"
   ]
  },
  {
   "cell_type": "code",
   "execution_count": 89,
   "id": "34bb0e6b",
   "metadata": {
    "scrolled": true
   },
   "outputs": [
    {
     "name": "stdout",
     "output_type": "stream",
     "text": [
      "There are 9 features used by lasso for diabetes.data\n",
      "And their names are: age, sex, bmi, bp, s1, s2, s3, s5, s6\n"
     ]
    }
   ],
   "source": [
    "num_feats = np.sum(new_lasso.coef_ != 0)\n",
    "names = []\n",
    "for i in range(len(diabetes.feature_names)):\n",
    "    if new_lasso.coef_[i] != 0: \n",
    "        names.append(diabetes.feature_names[i])\n",
    "names = \", \".join(names)\n",
    "print(\"There are \" + str(num_feats) + \" features used by lasso for diabetes.data\")\n",
    "print(\"And their names are: \" + names)"
   ]
  },
  {
   "cell_type": "markdown",
   "id": "00241e8e",
   "metadata": {},
   "source": [
    "## The coefficient of determination (CD) values for training and test sets for diabetes.load:"
   ]
  },
  {
   "cell_type": "markdown",
   "id": "c00d2cf2",
   "metadata": {},
   "source": [
    " ### The CD values for diabetes.data training and test sets are larger than their load_diabetes counterparts, values for the aforementioned dataset is closer to 1 therefore it's performance is better."
   ]
  },
  {
   "cell_type": "code",
   "execution_count": 90,
   "id": "41e56b47",
   "metadata": {},
   "outputs": [],
   "source": [
    "new_cd_train = new_lasso.score(new_X_train, new_y_train)\n",
    "new_cd_test = new_lasso.score(new_X_test, new_y_test)"
   ]
  },
  {
   "cell_type": "code",
   "execution_count": 91,
   "id": "e66e8456",
   "metadata": {},
   "outputs": [
    {
     "name": "stdout",
     "output_type": "stream",
     "text": [
      "The training coefficient of determination for diabetes.data is: 0.527799678598694\n",
      "The test coefficient of determination for diabetes.data is: 0.4206521413351825\n"
     ]
    }
   ],
   "source": [
    "print(\"The training coefficient of determination for diabetes.data is: \" + str(new_cd_train))\n",
    "print(\"The test coefficient of determination for diabetes.data is: \" + str(new_cd_test))"
   ]
  },
  {
   "cell_type": "markdown",
   "id": "081c111c",
   "metadata": {},
   "source": [
    "# Questions 7 - 8\n"
   ]
  },
  {
   "cell_type": "markdown",
   "id": "a6cb1e69",
   "metadata": {},
   "source": [
    "## Preprocessing diabetes.data using StandardScaler "
   ]
  },
  {
   "cell_type": "code",
   "execution_count": 92,
   "id": "309436b8",
   "metadata": {},
   "outputs": [],
   "source": [
    "from sklearn.preprocessing import StandardScaler\n",
    "\n",
    "scaler = StandardScaler()\n",
    "scaler.fit(new_X_train)\n",
    "\n",
    "X_train_scaled = scaler.transform(new_X_train)\n",
    "X_test_scaled = scaler.transform(new_X_test)\n",
    "\n",
    "scaled_lasso = Lasso().fit(X_train_scaled, new_y_train)"
   ]
  },
  {
   "cell_type": "code",
   "execution_count": 93,
   "id": "fa432c8a",
   "metadata": {},
   "outputs": [
    {
     "name": "stdout",
     "output_type": "stream",
     "text": [
      "There are 7 features used by lasso for diabetes.data\n",
      "And their names are: sex, bmi, bp, s1, s3, s5, s6\n"
     ]
    }
   ],
   "source": [
    "num_feats = np.sum(scaled_lasso.coef_ != 0)\n",
    "names = []\n",
    "for i in range(len(diabetes.feature_names)):\n",
    "    if scaled_lasso.coef_[i] != 0: \n",
    "        names.append(diabetes.feature_names[i])\n",
    "names = \", \".join(names)\n",
    "print(\"There are \" + str(num_feats) + \" features used by lasso for diabetes.data\")\n",
    "print(\"And their names are: \" + names)"
   ]
  },
  {
   "cell_type": "markdown",
   "id": "42a80c68",
   "metadata": {},
   "source": [
    "### CD for normalised data:"
   ]
  },
  {
   "cell_type": "code",
   "execution_count": 94,
   "id": "537c7213",
   "metadata": {},
   "outputs": [],
   "source": [
    "scaled_cd_train = scaled_lasso.score(X_train_scaled, new_y_train)\n",
    "scaled_cd_test = scaled_lasso.score(X_test_scaled, new_y_test)"
   ]
  },
  {
   "cell_type": "markdown",
   "id": "68b1e3b4",
   "metadata": {},
   "source": [
    "### The expectation that the results below would be closer to (3) than (6) has been disproven. One reason for this may be that normalising data doesn't necessarily affect coefficient of determination as data is just rescaled at an even proportion accross test and training sets and the overall properties of lasso remain roughly unchanged. Additionally, the type of normalisation of data affects the final results."
   ]
  },
  {
   "cell_type": "code",
   "execution_count": 95,
   "id": "e44dac9f",
   "metadata": {},
   "outputs": [
    {
     "name": "stdout",
     "output_type": "stream",
     "text": [
      "The training coefficient of determination for diabetes.data is: 0.5325028908798705\n",
      "The test coefficient of determination for diabetes.data is: 0.44679521191597227\n"
     ]
    }
   ],
   "source": [
    "print(\"The training coefficient of determination for diabetes.data is: \" + str(scaled_cd_train))\n",
    "print(\"The test coefficient of determination for diabetes.data is: \" + str(scaled_cd_test))"
   ]
  },
  {
   "cell_type": "markdown",
   "id": "81f3f90d",
   "metadata": {},
   "source": [
    "# Question 9"
   ]
  },
  {
   "cell_type": "code",
   "execution_count": 96,
   "id": "fe374d50",
   "metadata": {},
   "outputs": [],
   "source": [
    "from random import randint as rand\n",
    "\n",
    "# First we find the indices where the coefficient is non-zero\n",
    "coef_indices = []\n",
    "\n",
    "for i in range(len(scaled_lasso.coef_)):\n",
    "    if scaled_lasso.coef_[i] != 0:\n",
    "        coef_indices.append(i)\n",
    "\n",
    "#list of number of features with non-zero coef\n",
    "num_features = [i for i in range(1, len(coef_indices) + 1)]\n",
    "\n",
    "# CD values stored in list below.\n",
    "CD_values = []\n",
    "\n",
    "# initial Regularization Parameter.\n",
    "C = 0.0001\n",
    "\n",
    "# the size of X_train_scaled used to slice X_train_scaled\n",
    "X_size = len(X_train_scaled) "
   ]
  },
  {
   "cell_type": "code",
   "execution_count": 97,
   "id": "f8e42013",
   "metadata": {},
   "outputs": [],
   "source": [
    "# The graph will contain len(non_zero_coef) plots with varying C's.\n",
    "# the C value is 2x, where x is the number of features used by lasso (max 7)\n",
    "for i in range (len(coef_indices)):\n",
    "    # least index of a non-zero feature\n",
    "    min_feat = coef_indices[i] + 1\n",
    "    # the X_train is sliced depending on how many features are used\n",
    "    X_train_sliced = X_train_scaled[:X_size, :min_feat]\n",
    "    X_test_sliced = X_test_scaled[:X_size, :min_feat]\n",
    "    CD = Lasso(alpha = C).fit(X_train_sliced, new_y_train).score(X_test_sliced, new_y_test)\n",
    "    CD_values.append(CD)  \n",
    "    C *= 10"
   ]
  },
  {
   "cell_type": "markdown",
   "id": "32e0a2e7",
   "metadata": {},
   "source": [
    "## The graph below shows a plot of R^2 against increasing number of features with non-zero coefficients. The regularization parameter varies, increasing +2 in each loop to give different R^2 values. \n",
    "\n",
    "### The curve shown has an slow peak at x = 6. My preference would be (6, 0.437) as it is the peak of the plot."
   ]
  },
  {
   "cell_type": "code",
   "execution_count": 98,
   "id": "06ff0409",
   "metadata": {},
   "outputs": [
    {
     "data": {
      "text/plain": [
       "[<matplotlib.lines.Line2D at 0x280d7f9d2b0>]"
      ]
     },
     "execution_count": 98,
     "metadata": {},
     "output_type": "execute_result"
    },
    {
     "data": {
      "image/png": "[encoded data removed]",
      "text/plain": [
       "<Figure size 640x480 with 1 Axes>"
      ]
     },
     "metadata": {},
     "output_type": "display_data"
    }
   ],
   "source": [
    "# make CD_values into np array\n",
    "CD_values = np.array(CD_values)\n",
    "\n",
    "%matplotlib inline\n",
    "plt.scatter(num_features, CD_values)\n",
    "plt.plot(num_features, CD_values)"
   ]
  },
  {
   "cell_type": "markdown",
   "id": "8a20d6f1",
   "metadata": {},
   "source": [
    "# Question 10"
   ]
  },
  {
   "cell_type": "markdown",
   "id": "81ccb836",
   "metadata": {},
   "source": [
    "## Then we create the necessary variables, i.e. the list of C values in which our target regularisation parameter is, and best score and best_C variables."
   ]
  },
  {
   "cell_type": "code",
   "execution_count": 99,
   "id": "663c1874",
   "metadata": {},
   "outputs": [],
   "source": [
    "from sklearn.svm import SVC\n",
    "from sklearn.model_selection import GridSearchCV\n",
    "\n",
    "# create variables to store best_score and best regularisation parameter, C.\n",
    "best_score = 0\n",
    "best_C = 0\n",
    "\n",
    "# a grid for possible alpha values\n",
    "param_grid = {'alpha': [i*0.1 for i in range(1,100)]}"
   ]
  },
  {
   "cell_type": "markdown",
   "id": "f1b5c364",
   "metadata": {},
   "source": [
    "## We try all possible regularisation parameters in the list to find the best one against the validation set."
   ]
  },
  {
   "cell_type": "code",
   "execution_count": 100,
   "id": "d35cbae2",
   "metadata": {},
   "outputs": [],
   "source": [
    "# we will be using Lasso with GridSearchCV to find the optimal regularisation parameter.\n",
    "# using the scaled diabetes.data values with SVC cause an unidentified error which could not be resolved.\n",
    "grid_search = GridSearchCV(Lasso(), param_grid, cv = 5)\n",
    "\n",
    "grid_search.fit(X_train_scaled, new_y_train)\n",
    "\n",
    "best_score = grid_search.score(X_test_scaled, new_y_test)\n",
    "\n",
    "best_C = grid_search.best_params_['alpha']"
   ]
  },
  {
   "cell_type": "code",
   "execution_count": 101,
   "id": "e9060515",
   "metadata": {},
   "outputs": [
    {
     "name": "stdout",
     "output_type": "stream",
     "text": [
      "The best regularisation parameter:\n",
      "1.6\n"
     ]
    }
   ],
   "source": [
    "optimal_lasso = Lasso(alpha = best_C)\n",
    "optimal_lasso.fit(X_train_scaled, new_y_train)\n",
    "                  \n",
    "optimal_cd_train = optimal_lasso.score(X_train_scaled, new_y_train)\n",
    "optimal_cd_test = optimal_lasso.score(X_test_scaled, new_y_test)\n",
    "\n",
    "print(\"The best regularisation parameter:\")\n",
    "print(best_C)"
   ]
  },
  {
   "cell_type": "code",
   "execution_count": 102,
   "id": "a42fd388",
   "metadata": {},
   "outputs": [
    {
     "name": "stdout",
     "output_type": "stream",
     "text": [
      "There are 8 features used by optimal lasso for diabetes.data\n",
      "And their names are: sex, bmi, bp, s1, s2, s3, s5, s6\n"
     ]
    }
   ],
   "source": [
    "num_feats = np.sum(optimal_lasso.coef_ != 0)\n",
    "\n",
    "names = []\n",
    "for i in range(len(diabetes.feature_names)):\n",
    "    if optimal_lasso.coef_[i] != 0: \n",
    "        names.append(diabetes.feature_names[i])\n",
    "names = \", \".join(names)\n",
    "print(\"There are \" + str(num_feats) + \" features used by optimal lasso for diabetes.data\")\n",
    "print(\"And their names are: \" + names)"
   ]
  },
  {
   "cell_type": "code",
   "execution_count": 103,
   "id": "0c56fa3c",
   "metadata": {},
   "outputs": [
    {
     "name": "stdout",
     "output_type": "stream",
     "text": [
      "The training coefficient of determination for scaled diabetes.data is with optimal regularisation parameter:\n",
      "0.5301966316855677\n",
      "\n",
      "The test coefficient of determination for scaled diabetes.data is with optimal regularisation parameter:\n",
      "0.4493607313568915\n",
      "\n"
     ]
    }
   ],
   "source": [
    "print(\"The training coefficient of determination for scaled diabetes.data is with optimal regularisation parameter:\")\n",
    "print(str(optimal_cd_train) + \"\\n\")\n",
    "print(\"The test coefficient of determination for scaled diabetes.data is with optimal regularisation parameter:\")\n",
    "print(str(optimal_cd_test) + \"\\n\")"
   ]
  },
  {
   "cell_type": "markdown",
   "id": "93b1173c",
   "metadata": {},
   "source": [
    "# Question 11"
   ]
  },
  {
   "cell_type": "markdown",
   "id": "70a7c680",
   "metadata": {},
   "source": [
    "## splitting new_X_train into proper and calibration sets"
   ]
  },
  {
   "cell_type": "code",
   "execution_count": 134,
   "id": "1dfd6fe1",
   "metadata": {},
   "outputs": [],
   "source": [
    "# new_X_train, new_X_test, new_y_train, new_y_test\n",
    "\n",
    "X_train_pr, X_calib, y_train_pr, y_calib = train_test_split(new_X_train, new_y_train, random_state = 13, test_size = 99)"
   ]
  },
  {
   "cell_type": "markdown",
   "id": "20028c9c",
   "metadata": {},
   "source": [
    "## pre-processing proper and calib training sets, and new_X_test"
   ]
  },
  {
   "cell_type": "code",
   "execution_count": 135,
   "id": "0c3a6600",
   "metadata": {},
   "outputs": [],
   "source": [
    "from sklearn.preprocessing import StandardScaler\n",
    "\n",
    "scaler = StandardScaler()\n",
    "scaler.fit(X_train_pr)\n",
    "\n",
    "X_pr_scaled = scaler.transform(X_train_pr)\n",
    "X_calib_scaled = scaler.transform(X_calib)\n",
    "X_test_scaled = scaler.transform(new_X_test)"
   ]
  },
  {
   "cell_type": "markdown",
   "id": "830190ca",
   "metadata": {},
   "source": [
    "## First, we need to find parameters for lasso using cross-validation"
   ]
  },
  {
   "cell_type": "code",
   "execution_count": 136,
   "id": "677c7a24",
   "metadata": {},
   "outputs": [
    {
     "name": "stdout",
     "output_type": "stream",
     "text": [
      "The chosen parameter after fitting grid_search with proper training set is:\n",
      "1.7000000000000002\n"
     ]
    }
   ],
   "source": [
    "from sklearn.svm import SVC\n",
    "from sklearn.model_selection import GridSearchCV\n",
    "\n",
    "# chosen parameter will be stored in the variable below.\n",
    "best_C = 0\n",
    "\n",
    "# we had defined grid_search previously on (10), we fit it with our new proper sets.\n",
    "grid_search.fit(X_pr_scaled, y_train_pr)\n",
    "\n",
    "best_C = grid_search.best_params_['alpha']\n",
    "\n",
    "print(\"The chosen parameter after fitting grid_search with proper training set is:\")\n",
    "print(best_C)"
   ]
  },
  {
   "cell_type": "markdown",
   "id": "837ac6fe",
   "metadata": {},
   "source": [
    "## for us to calculate non-conformity measure, we need to have a method that finds predicted label for each test sample."
   ]
  },
  {
   "cell_type": "code",
   "execution_count": 137,
   "id": "5d408e91",
   "metadata": {},
   "outputs": [],
   "source": [
    "# make lasso object with chosen parameter\n",
    "lasso = Lasso(alpha = best_C)\n",
    "# fit lasso with training set proper\n",
    "lasso.fit(X_pr_scaled, y_train_pr)\n",
    "\n",
    "# store predicted labels for our scaled test set.\n",
    "test_predictions = lasso.predict(X_test_scaled)\n",
    "\n",
    "# store predicted labels for our scaled calibration set\n",
    "calib_predictions = lasso.predict(X_calib_scaled)"
   ]
  },
  {
   "cell_type": "markdown",
   "id": "2d998fbf",
   "metadata": {},
   "source": [
    "## find non-conformity scores for test and calibration samples\n",
    "### we start by defining a method that calculates and returns a list of non=conformity scores"
   ]
  },
  {
   "cell_type": "code",
   "execution_count": 138,
   "id": "9c0b5d85",
   "metadata": {},
   "outputs": [],
   "source": [
    "def non_conform_scores(predictions, actual):\n",
    "    scores = []\n",
    "    for i in range(len(predictions)):\n",
    "        score =  abs(actual[i] - predictions[i])\n",
    "        scores.append(score)\n",
    "    return scores"
   ]
  },
  {
   "cell_type": "markdown",
   "id": "00ac7537",
   "metadata": {},
   "source": [
    "### store calibration and test non_conformity scores"
   ]
  },
  {
   "cell_type": "code",
   "execution_count": 139,
   "id": "72a9770d",
   "metadata": {},
   "outputs": [],
   "source": [
    "NC_calib = non_conform_scores(calib_predictions, y_calib)\n",
    "NC_test = non_conform_scores(test_predictions, new_y_test)"
   ]
  },
  {
   "cell_type": "markdown",
   "id": "d1a841a0",
   "metadata": {},
   "source": [
    "### methods for finding the rank of non-conformal scores, finding the prediction set, finding p-values, and the error rate."
   ]
  },
  {
   "cell_type": "code",
   "execution_count": 145,
   "id": "60383a37",
   "metadata": {},
   "outputs": [],
   "source": [
    "from bisect import bisect\n",
    "\n",
    "def find_rank(scores, sample):\n",
    "    # sorting list of non-conformity scores in ascending order to find ranks later.\n",
    "    scores.sort()\n",
    "    rank = bisect(scores, sample)\n",
    "    # the samplesare sorted in ascending order, but we want to return the rank of sample in descending.\n",
    "    return len(scores) - rank + 1"
   ]
  },
  {
   "cell_type": "code",
   "execution_count": 146,
   "id": "1ff295cc",
   "metadata": {},
   "outputs": [],
   "source": [
    "def p_value(rank, num_scores):\n",
    "    return (rank / (num_scores + 1))"
   ]
  },
  {
   "cell_type": "code",
   "execution_count": 147,
   "id": "9182c066",
   "metadata": {},
   "outputs": [],
   "source": [
    "def prediction_set(p_values, sig_level):\n",
    "    pred_set = []\n",
    "    for i in p_values:\n",
    "        if i > sig_level:\n",
    "            pred_set.append(i)\n",
    "    return pred_set"
   ]
  },
  {
   "cell_type": "code",
   "execution_count": 148,
   "id": "31ba9085",
   "metadata": {},
   "outputs": [],
   "source": [
    "def error_rate(test_size, pred_set_size):\n",
    "    return 1 - (pred_set_size / test_size)"
   ]
  },
  {
   "cell_type": "markdown",
   "id": "ae5ed619",
   "metadata": {},
   "source": [
    "## error rate at significance level = 0.05"
   ]
  },
  {
   "cell_type": "code",
   "execution_count": 150,
   "id": "f16f1000",
   "metadata": {},
   "outputs": [],
   "source": [
    "significance_level = 0.05\n",
    "# a list to store p_values for each test sample\n",
    "p_values = []\n",
    "# the number of calibration non-conformity scores\n",
    "num_scores = len(NC_calib)\n",
    "\n",
    "# store all the p_values for the test set\n",
    "for i in range(len(NC_test)):\n",
    "    rank = find_rank(NC_calib, NC_test[i])\n",
    "    p_values.append(p_value(rank, num_scores))\n",
    "    \n",
    "# once all p-values are found we can find the prediction set.\n",
    "pred_set = prediction_set(p_values, significance_level)"
   ]
  },
  {
   "cell_type": "code",
   "execution_count": 151,
   "id": "fa7b3fea",
   "metadata": {},
   "outputs": [
    {
     "name": "stdout",
     "output_type": "stream",
     "text": [
      "The error rate at significance level 5% is:\n",
      "0.08108108108108103\n"
     ]
    }
   ],
   "source": [
    "err_rate = error_rate(len(X_test_scaled), len(pred_set))\n",
    "\n",
    "print(\"The error rate at significance level 5% is:\")\n",
    "print(err_rate)"
   ]
  },
  {
   "cell_type": "markdown",
   "id": "a3a19565",
   "metadata": {},
   "source": [
    "## prediction intervals at significance level = 0.05"
   ]
  },
  {
   "cell_type": "code",
   "execution_count": 162,
   "id": "f454ff05",
   "metadata": {},
   "outputs": [
    {
     "name": "stdout",
     "output_type": "stream",
     "text": [
      "The prediction intervals for test samples are:\n",
      "Sample x*1 -> [165, 296] \n",
      " \n",
      "Sample x*2 -> [-10, 121] \n",
      " \n",
      "Sample x*3 -> [87, 217] \n",
      " \n",
      "Sample x*4 -> [126, 256] \n",
      " \n",
      "Sample x*5 -> [204, 335] \n",
      " \n",
      "Sample x*6 -> [72, 203] \n",
      " \n",
      "Sample x*7 -> [110, 240] \n",
      " \n",
      "Sample x*8 -> [135, 266] \n",
      " \n",
      "Sample x*9 -> [177, 307] \n",
      " \n",
      "Sample x*10 -> [17, 147] \n",
      " \n",
      "Sample x*11 -> [107, 238] \n",
      " \n",
      "Sample x*12 -> [167, 297] \n",
      " \n",
      "Sample x*13 -> [24, 155] \n",
      " \n",
      "Sample x*14 -> [114, 245] \n",
      " \n",
      "Sample x*15 -> [99, 230] \n",
      " \n",
      "Sample x*16 -> [55, 186] \n",
      " \n",
      "Sample x*17 -> [40, 171] \n",
      " \n",
      "Sample x*18 -> [162, 292] \n",
      " \n",
      "Sample x*19 -> [27, 157] \n",
      " \n",
      "Sample x*20 -> [112, 242] \n",
      " \n",
      "Sample x*21 -> [24, 154] \n",
      " \n",
      "Sample x*22 -> [58, 189] \n",
      " \n",
      "Sample x*23 -> [16, 146] \n",
      " \n",
      "Sample x*24 -> [31, 162] \n",
      " \n",
      "Sample x*25 -> [77, 208] \n",
      " \n",
      "Sample x*26 -> [123, 254] \n",
      " \n",
      "Sample x*27 -> [19, 149] \n",
      " \n",
      "Sample x*28 -> [83, 213] \n",
      " \n",
      "Sample x*29 -> [101, 231] \n",
      " \n",
      "Sample x*30 -> [-12, 119] \n",
      " \n",
      "Sample x*31 -> [145, 276] \n",
      " \n",
      "Sample x*32 -> [58, 188] \n",
      " \n",
      "Sample x*33 -> [88, 219] \n",
      " \n",
      "Sample x*34 -> [95, 226] \n",
      " \n",
      "Sample x*35 -> [190, 321] \n",
      " \n",
      "Sample x*36 -> [129, 259] \n",
      " \n",
      "Sample x*37 -> [64, 194] \n",
      " \n",
      "Sample x*38 -> [89, 220] \n",
      " \n",
      "Sample x*39 -> [107, 237] \n",
      " \n",
      "Sample x*40 -> [46, 176] \n",
      " \n",
      "Sample x*41 -> [51, 181] \n",
      " \n",
      "Sample x*42 -> [102, 233] \n",
      " \n",
      "Sample x*43 -> [54, 185] \n",
      " \n",
      "Sample x*44 -> [76, 207] \n",
      " \n",
      "Sample x*45 -> [127, 258] \n",
      " \n",
      "Sample x*46 -> [86, 217] \n",
      " \n",
      "Sample x*47 -> [30, 161] \n",
      " \n",
      "Sample x*48 -> [-13, 117] \n",
      " \n",
      "Sample x*49 -> [-13, 118] \n",
      " \n",
      "Sample x*50 -> [71, 202] \n",
      " \n",
      "Sample x*51 -> [26, 156] \n",
      " \n",
      "Sample x*52 -> [122, 252] \n",
      " \n",
      "Sample x*53 -> [-15, 115] \n",
      " \n",
      "Sample x*54 -> [89, 220] \n",
      " \n",
      "Sample x*55 -> [60, 191] \n",
      " \n",
      "Sample x*56 -> [23, 154] \n",
      " \n",
      "Sample x*57 -> [122, 252] \n",
      " \n",
      "Sample x*58 -> [38, 168] \n",
      " \n",
      "Sample x*59 -> [135, 265] \n",
      " \n",
      "Sample x*60 -> [207, 338] \n",
      " \n",
      "Sample x*61 -> [213, 344] \n",
      " \n",
      "Sample x*62 -> [106, 237] \n",
      " \n",
      "Sample x*63 -> [6, 137] \n",
      " \n",
      "Sample x*64 -> [19, 150] \n",
      " \n",
      "Sample x*65 -> [34, 164] \n",
      " \n",
      "Sample x*66 -> [43, 174] \n",
      " \n",
      "Sample x*67 -> [63, 193] \n",
      " \n",
      "Sample x*68 -> [96, 226] \n",
      " \n",
      "Sample x*69 -> [94, 225] \n",
      " \n",
      "Sample x*70 -> [-19, 112] \n",
      " \n",
      "Sample x*71 -> [86, 217] \n",
      " \n",
      "Sample x*72 -> [86, 217] \n",
      " \n",
      "Sample x*73 -> [103, 234] \n",
      " \n",
      "Sample x*74 -> [200, 331] \n",
      " \n",
      "Sample x*75 -> [60, 191] \n",
      " \n",
      "Sample x*76 -> [102, 233] \n",
      " \n",
      "Sample x*77 -> [128, 259] \n",
      " \n",
      "Sample x*78 -> [80, 210] \n",
      " \n",
      "Sample x*79 -> [26, 156] \n",
      " \n",
      "Sample x*80 -> [44, 174] \n",
      " \n",
      "Sample x*81 -> [23, 153] \n",
      " \n",
      "Sample x*82 -> [57, 188] \n",
      " \n",
      "Sample x*83 -> [6, 136] \n",
      " \n",
      "Sample x*84 -> [25, 156] \n",
      " \n",
      "Sample x*85 -> [18, 148] \n",
      " \n",
      "Sample x*86 -> [91, 222] \n",
      " \n",
      "Sample x*87 -> [80, 210] \n",
      " \n",
      "Sample x*88 -> [21, 152] \n",
      " \n",
      "Sample x*89 -> [227, 357] \n",
      " \n",
      "Sample x*90 -> [34, 165] \n",
      " \n",
      "Sample x*91 -> [41, 171] \n",
      " \n",
      "Sample x*92 -> [98, 228] \n",
      " \n",
      "Sample x*93 -> [136, 267] \n",
      " \n",
      "Sample x*94 -> [94, 225] \n",
      " \n",
      "Sample x*95 -> [56, 187] \n",
      " \n",
      "Sample x*96 -> [72, 202] \n",
      " \n",
      "Sample x*97 -> [-7, 124] \n",
      " \n",
      "Sample x*98 -> [66, 197] \n",
      " \n",
      "Sample x*99 -> [188, 319] \n",
      " \n",
      "Sample x*100 -> [72, 203] \n",
      " \n",
      "Sample x*101 -> [141, 272] \n",
      " \n",
      "Sample x*102 -> [176, 306] \n",
      " \n",
      "Sample x*103 -> [57, 188] \n",
      " \n",
      "Sample x*104 -> [113, 244] \n",
      " \n",
      "Sample x*105 -> [65, 195] \n",
      " \n",
      "Sample x*106 -> [148, 279] \n",
      " \n",
      "Sample x*107 -> [84, 214] \n",
      " \n",
      "Sample x*108 -> [15, 146] \n",
      " \n",
      "Sample x*109 -> [1, 131] \n",
      " \n",
      "Sample x*110 -> [82, 213] \n",
      " \n",
      "Sample x*111 -> [55, 185] \n",
      " \n"
     ]
    }
   ],
   "source": [
    "from math import ceil\n",
    "from math import floor\n",
    "\n",
    "k = ceil((1-significance_level) * (num_scores+1))\n",
    "\n",
    "# [k-1] because indices\n",
    "c = NC_calib[k-1]\n",
    "\n",
    "print(\"The prediction intervals for test samples are:\")\n",
    "\n",
    "for i in range(len(NC_test)):\n",
    "    # we take the floor of the lower limit and ceil of the upper limit for a cleaner output\n",
    "    lower = str(floor(test_predictions[i] - c))\n",
    "    upper = str(ceil(test_predictions[i] + c))\n",
    "    sample = \"Sample x*\" +  str(i+1) + \" -> [\" + lower +\", \" + upper +\"] \\n \"\n",
    "    print(sample)"
   ]
  },
  {
   "cell_type": "markdown",
   "id": "5eeb54e4",
   "metadata": {},
   "source": [
    "## error rate at significance level = 0.2"
   ]
  },
  {
   "cell_type": "code",
   "execution_count": 163,
   "id": "bbacd3d9",
   "metadata": {},
   "outputs": [],
   "source": [
    "significance_level = 0.2\n",
    "# a list to store p_values for each test sample\n",
    "p_values = []\n",
    "# the number of calibration non-conformity scores\n",
    "num_scores = len(NC_calib)\n",
    "\n",
    "# store all the p_values for the test set\n",
    "for i in range(len(NC_test)):\n",
    "    rank = find_rank(NC_calib, NC_test[i])\n",
    "    p_values.append(p_value(rank, num_scores))\n",
    "    \n",
    "# once all p-values are found we can find the prediction set.\n",
    "pred_set = prediction_set(p_values, significance_level)"
   ]
  },
  {
   "cell_type": "code",
   "execution_count": 164,
   "id": "66fed417",
   "metadata": {},
   "outputs": [
    {
     "name": "stdout",
     "output_type": "stream",
     "text": [
      "The error rate at significance level 20% is:\n",
      "0.22522522522522526\n"
     ]
    }
   ],
   "source": [
    "err_rate = error_rate(len(X_test_scaled), len(pred_set))\n",
    "\n",
    "print(\"The error rate at significance level 20% is:\")\n",
    "print(err_rate)"
   ]
  },
  {
   "cell_type": "markdown",
   "id": "f55960d7",
   "metadata": {},
   "source": [
    "## prediction intervals at significance level = 0.2"
   ]
  },
  {
   "cell_type": "code",
   "execution_count": 165,
   "id": "b12ad8ce",
   "metadata": {},
   "outputs": [
    {
     "name": "stdout",
     "output_type": "stream",
     "text": [
      "The prediction intervals for test samples are:\n",
      "Sample x*1 -> [165, 296] \n",
      " \n",
      "Sample x*2 -> [-10, 121] \n",
      " \n",
      "Sample x*3 -> [87, 217] \n",
      " \n",
      "Sample x*4 -> [126, 256] \n",
      " \n",
      "Sample x*5 -> [204, 335] \n",
      " \n",
      "Sample x*6 -> [72, 203] \n",
      " \n",
      "Sample x*7 -> [110, 240] \n",
      " \n",
      "Sample x*8 -> [135, 266] \n",
      " \n",
      "Sample x*9 -> [177, 307] \n",
      " \n",
      "Sample x*10 -> [17, 147] \n",
      " \n",
      "Sample x*11 -> [107, 238] \n",
      " \n",
      "Sample x*12 -> [167, 297] \n",
      " \n",
      "Sample x*13 -> [24, 155] \n",
      " \n",
      "Sample x*14 -> [114, 245] \n",
      " \n",
      "Sample x*15 -> [99, 230] \n",
      " \n",
      "Sample x*16 -> [55, 186] \n",
      " \n",
      "Sample x*17 -> [40, 171] \n",
      " \n",
      "Sample x*18 -> [162, 292] \n",
      " \n",
      "Sample x*19 -> [27, 157] \n",
      " \n",
      "Sample x*20 -> [112, 242] \n",
      " \n",
      "Sample x*21 -> [24, 154] \n",
      " \n",
      "Sample x*22 -> [58, 189] \n",
      " \n",
      "Sample x*23 -> [16, 146] \n",
      " \n",
      "Sample x*24 -> [31, 162] \n",
      " \n",
      "Sample x*25 -> [77, 208] \n",
      " \n",
      "Sample x*26 -> [123, 254] \n",
      " \n",
      "Sample x*27 -> [19, 149] \n",
      " \n",
      "Sample x*28 -> [83, 213] \n",
      " \n",
      "Sample x*29 -> [101, 231] \n",
      " \n",
      "Sample x*30 -> [-12, 119] \n",
      " \n",
      "Sample x*31 -> [145, 276] \n",
      " \n",
      "Sample x*32 -> [58, 188] \n",
      " \n",
      "Sample x*33 -> [88, 219] \n",
      " \n",
      "Sample x*34 -> [95, 226] \n",
      " \n",
      "Sample x*35 -> [190, 321] \n",
      " \n",
      "Sample x*36 -> [129, 259] \n",
      " \n",
      "Sample x*37 -> [64, 194] \n",
      " \n",
      "Sample x*38 -> [89, 220] \n",
      " \n",
      "Sample x*39 -> [107, 237] \n",
      " \n",
      "Sample x*40 -> [46, 176] \n",
      " \n",
      "Sample x*41 -> [51, 181] \n",
      " \n",
      "Sample x*42 -> [102, 233] \n",
      " \n",
      "Sample x*43 -> [54, 185] \n",
      " \n",
      "Sample x*44 -> [76, 207] \n",
      " \n",
      "Sample x*45 -> [127, 258] \n",
      " \n",
      "Sample x*46 -> [86, 217] \n",
      " \n",
      "Sample x*47 -> [30, 161] \n",
      " \n",
      "Sample x*48 -> [-13, 117] \n",
      " \n",
      "Sample x*49 -> [-13, 118] \n",
      " \n",
      "Sample x*50 -> [71, 202] \n",
      " \n",
      "Sample x*51 -> [26, 156] \n",
      " \n",
      "Sample x*52 -> [122, 252] \n",
      " \n",
      "Sample x*53 -> [-15, 115] \n",
      " \n",
      "Sample x*54 -> [89, 220] \n",
      " \n",
      "Sample x*55 -> [60, 191] \n",
      " \n",
      "Sample x*56 -> [23, 154] \n",
      " \n",
      "Sample x*57 -> [122, 252] \n",
      " \n",
      "Sample x*58 -> [38, 168] \n",
      " \n",
      "Sample x*59 -> [135, 265] \n",
      " \n",
      "Sample x*60 -> [207, 338] \n",
      " \n",
      "Sample x*61 -> [213, 344] \n",
      " \n",
      "Sample x*62 -> [106, 237] \n",
      " \n",
      "Sample x*63 -> [6, 137] \n",
      " \n",
      "Sample x*64 -> [19, 150] \n",
      " \n",
      "Sample x*65 -> [34, 164] \n",
      " \n",
      "Sample x*66 -> [43, 174] \n",
      " \n",
      "Sample x*67 -> [63, 193] \n",
      " \n",
      "Sample x*68 -> [96, 226] \n",
      " \n",
      "Sample x*69 -> [94, 225] \n",
      " \n",
      "Sample x*70 -> [-19, 112] \n",
      " \n",
      "Sample x*71 -> [86, 217] \n",
      " \n",
      "Sample x*72 -> [86, 217] \n",
      " \n",
      "Sample x*73 -> [103, 234] \n",
      " \n",
      "Sample x*74 -> [200, 331] \n",
      " \n",
      "Sample x*75 -> [60, 191] \n",
      " \n",
      "Sample x*76 -> [102, 233] \n",
      " \n",
      "Sample x*77 -> [128, 259] \n",
      " \n",
      "Sample x*78 -> [80, 210] \n",
      " \n",
      "Sample x*79 -> [26, 156] \n",
      " \n",
      "Sample x*80 -> [44, 174] \n",
      " \n",
      "Sample x*81 -> [23, 153] \n",
      " \n",
      "Sample x*82 -> [57, 188] \n",
      " \n",
      "Sample x*83 -> [6, 136] \n",
      " \n",
      "Sample x*84 -> [25, 156] \n",
      " \n",
      "Sample x*85 -> [18, 148] \n",
      " \n",
      "Sample x*86 -> [91, 222] \n",
      " \n",
      "Sample x*87 -> [80, 210] \n",
      " \n",
      "Sample x*88 -> [21, 152] \n",
      " \n",
      "Sample x*89 -> [227, 357] \n",
      " \n",
      "Sample x*90 -> [34, 165] \n",
      " \n",
      "Sample x*91 -> [41, 171] \n",
      " \n",
      "Sample x*92 -> [98, 228] \n",
      " \n",
      "Sample x*93 -> [136, 267] \n",
      " \n",
      "Sample x*94 -> [94, 225] \n",
      " \n",
      "Sample x*95 -> [56, 187] \n",
      " \n",
      "Sample x*96 -> [72, 202] \n",
      " \n",
      "Sample x*97 -> [-7, 124] \n",
      " \n",
      "Sample x*98 -> [66, 197] \n",
      " \n",
      "Sample x*99 -> [188, 319] \n",
      " \n",
      "Sample x*100 -> [72, 203] \n",
      " \n",
      "Sample x*101 -> [141, 272] \n",
      " \n",
      "Sample x*102 -> [176, 306] \n",
      " \n",
      "Sample x*103 -> [57, 188] \n",
      " \n",
      "Sample x*104 -> [113, 244] \n",
      " \n",
      "Sample x*105 -> [65, 195] \n",
      " \n",
      "Sample x*106 -> [148, 279] \n",
      " \n",
      "Sample x*107 -> [84, 214] \n",
      " \n",
      "Sample x*108 -> [15, 146] \n",
      " \n",
      "Sample x*109 -> [1, 131] \n",
      " \n",
      "Sample x*110 -> [82, 213] \n",
      " \n",
      "Sample x*111 -> [55, 185] \n",
      " \n"
     ]
    }
   ],
   "source": [
    "from math import ceil\n",
    "from math import floor\n",
    "\n",
    "k = ceil((1-significance_level) * (num_scores+1))\n",
    "\n",
    "# [k-1] because indices\n",
    "c = NC_calib[k-1]\n",
    "\n",
    "print(\"The prediction intervals for test samples are:\")\n",
    "\n",
    "for i in range(len(NC_test)):\n",
    "    # we take the floor of the lower limit and ceil of the upper limit for a cleaner output\n",
    "    lower = str(floor(test_predictions[i] - c))\n",
    "    upper = str(ceil(test_predictions[i] + c))\n",
    "    sample = \"Sample x*\" +  str(i+1) + \" -> [\" + lower +\", \" + upper +\"] \\n \"\n",
    "    print(sample)"
   ]
  }
 ],
 "metadata": {
  "kernelspec": {
   "display_name": "Python 3 (ipykernel)",
   "language": "python",
   "name": "python3"
  },
  "language_info": {
   "codemirror_mode": {
    "name": "ipython",
    "version": 3
   },
   "file_extension": ".py",
   "mimetype": "text/x-python",
   "name": "python",
   "nbconvert_exporter": "python",
   "pygments_lexer": "ipython3",
   "version": "3.9.13"
  }
 },
 "nbformat": 4,
 "nbformat_minor": 5
}
