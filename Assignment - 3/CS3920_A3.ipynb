{
 "cells": [
  {
   "cell_type": "markdown",
   "id": "ca6124e7",
   "metadata": {},
   "source": [
    "# Tasks 1-2"
   ]
  },
  {
   "cell_type": "markdown",
   "id": "7f93b594",
   "metadata": {},
   "source": [
    "## Loading Wine and USPS datasets"
   ]
  },
  {
   "cell_type": "code",
   "execution_count": 1,
   "id": "265f3dcc",
   "metadata": {},
   "outputs": [],
   "source": [
    "import math\n",
    "import numpy as np\n",
    "\n",
    "from sklearn.datasets import load_wine\n",
    "\n",
    "wine = load_wine()\n",
    "# loading the train and test zip datasets seperately\n",
    "zip_Xtrain = np.genfromtxt(\"zip.train.gz\", delimiter=\" \",usecols=np.arange(start = 1, stop = 257))\n",
    "zip_ytrain = np.genfromtxt(\"zip.train.gz\", delimiter=\" \",usecols=0)\n",
    "\n",
    "zip_Xtest = np.genfromtxt(\"zip.test.gz\", delimiter=\" \",usecols=np.arange(start = 1, stop = 257))\n",
    "zip_ytest = np.genfromtxt(\"zip.test.gz\", delimiter=\" \",usecols=0)"
   ]
  },
  {
   "cell_type": "code",
   "execution_count": 2,
   "id": "17d6f5f6",
   "metadata": {},
   "outputs": [],
   "source": [
    "from sklearn.model_selection import train_test_split\n",
    "\n",
    "# concatenating the zip train and test datasets before splitting them\n",
    "X_zip = np.concatenate((zip_Xtrain, zip_Xtest))\n",
    "y_zip = np.concatenate((zip_ytrain, zip_ytest))\n",
    "\n",
    "X_train, X_test, y_train, y_test = train_test_split(wine.data, \n",
    "                                                   wine.target, random_state = 103)\n",
    "\n",
    "X_zip_train, X_zip_test, y_zip_train, y_zip_test = train_test_split(X_zip,\n",
    "y_zip, random_state=103)"
   ]
  },
  {
   "cell_type": "markdown",
   "id": "4b946af2",
   "metadata": {},
   "source": [
    "# Task 3"
   ]
  },
  {
   "cell_type": "code",
   "execution_count": 3,
   "id": "b1e93c92",
   "metadata": {},
   "outputs": [],
   "source": [
    "from sklearn.model_selection import cross_val_score\n",
    "from sklearn.svm import SVC"
   ]
  },
  {
   "cell_type": "code",
   "execution_count": 4,
   "id": "b964d67c",
   "metadata": {},
   "outputs": [],
   "source": [
    "svm = SVC()\n",
    "\n",
    "# cross-val-score for wine\n",
    "\n",
    "cvs_wine = np.mean(cross_val_score(svm, X_train, y_train))\n",
    "\n",
    "# cvs for zip\n",
    "\n",
    "cvs_zip = np.mean(cross_val_score(svm, X_zip_train, y_zip_train))"
   ]
  },
  {
   "cell_type": "code",
   "execution_count": 5,
   "id": "bafd84a8",
   "metadata": {},
   "outputs": [
    {
     "name": "stdout",
     "output_type": "stream",
     "text": [
      "The mean CVS for the wine dataset is: 0.6683760683760683\n",
      "The mean CVS for the zip dataset is: 0.9710321243629894\n"
     ]
    }
   ],
   "source": [
    "print(\"The mean CVS for the wine dataset is: \" + str(cvs_wine))\n",
    "print(\"The mean CVS for the zip dataset is: \" + str(cvs_zip))"
   ]
  },
  {
   "cell_type": "markdown",
   "id": "3c7b809c",
   "metadata": {},
   "source": [
    "# Task 4"
   ]
  },
  {
   "cell_type": "code",
   "execution_count": 6,
   "id": "708ddb92",
   "metadata": {},
   "outputs": [],
   "source": [
    "# Fitting svm with the wine train dataset\n",
    "fit_wine = svm.fit(X_train, y_train)\n",
    "\n",
    "# Fitting svm with the zip train dataset\n",
    "fit_zip = svm.fit(X_zip_train, y_zip_train)"
   ]
  },
  {
   "cell_type": "code",
   "execution_count": 7,
   "id": "e273d5df",
   "metadata": {},
   "outputs": [],
   "source": [
    "# test error rate of the wine dataset\n",
    "\n",
    "score_wine = svm.fit(X_train, y_train).score(X_test, y_test)\n",
    "\n",
    "test_error_wine = 1 - score_wine\n",
    "\n",
    "# test error rate of the zip dataset\n",
    "\n",
    "score_zip = svm.fit(X_zip_train, y_zip_train).score(X_zip_test, y_zip_test)\n",
    "\n",
    "test_error_zip = 1 - score_zip"
   ]
  },
  {
   "cell_type": "code",
   "execution_count": 8,
   "id": "c704e396",
   "metadata": {},
   "outputs": [
    {
     "name": "stdout",
     "output_type": "stream",
     "text": [
      "The test error rate of the SVM for the wine dataset is: 0.3111111111111111\n",
      "The test error rate of the SVM for the zip dataset is: 0.02580645161290318\n"
     ]
    }
   ],
   "source": [
    "print(\"The test error rate of the SVM for the wine dataset is: \" + str(test_error_wine))\n",
    "print(\"The test error rate of the SVM for the zip dataset is: \" + str(test_error_zip))"
   ]
  },
  {
   "cell_type": "markdown",
   "id": "dbf57fd1",
   "metadata": {},
   "source": [
    "*The mean accuracy of the test data taken away from one gives the mean error rate for the test data. The test error rate of the SVC is in line with the mean cross-val-scores found above for default parameters.*  "
   ]
  },
  {
   "cell_type": "markdown",
   "id": "0de55768",
   "metadata": {},
   "source": [
    "# Task 5 and 6\n"
   ]
  },
  {
   "cell_type": "code",
   "execution_count": 9,
   "id": "402b6d1b",
   "metadata": {},
   "outputs": [],
   "source": [
    "from sklearn.pipeline import make_pipeline\n",
    "from sklearn.preprocessing import StandardScaler\n",
    "from sklearn.preprocessing import MinMaxScaler\n",
    "from sklearn.preprocessing import RobustScaler"
   ]
  },
  {
   "cell_type": "code",
   "execution_count": 10,
   "id": "f88354b7",
   "metadata": {},
   "outputs": [],
   "source": [
    "# We first build a pipeline using different normalizers for either dataset\n",
    "# first, the wine dataset\n",
    "\n",
    "# a pipeline using minMax scaler\n",
    "pipe_wine_mm = make_pipeline(MinMaxScaler(), SVC())\n",
    "\n",
    "# a pipeline using standard scaler\n",
    "pipe_wine_std = make_pipeline(StandardScaler(), SVC())\n",
    "\n",
    "\n",
    "# a pipeline using robust scaler\n",
    "pipe_wine_rbt =make_pipeline(RobustScaler(), SVC())"
   ]
  },
  {
   "cell_type": "code",
   "execution_count": 11,
   "id": "f87c256d",
   "metadata": {},
   "outputs": [],
   "source": [
    "# we fit different pipelines with the wine training dataset"
   ]
  },
  {
   "cell_type": "code",
   "execution_count": 12,
   "id": "f2c32fd5",
   "metadata": {},
   "outputs": [],
   "source": [
    "pipe_wine_mm.fit(X_train, y_train)\n",
    "pipe_wine_std.fit(X_train, y_train)\n",
    "pipe_wine_rbt.fit(X_train, y_train)\n",
    "\n",
    "# to find the best parameters for SVC we create a  grid of best potential suits\n",
    "\n",
    "param_grid = {\"svc__C\" : [0.001, 0.01, 0.1, 1, 10, 100],\n",
    "             \"svc__gamma\" : [0.001, 0.01, 0.1, 1, 10, 100]}"
   ]
  },
  {
   "cell_type": "code",
   "execution_count": 13,
   "id": "04187cc7",
   "metadata": {},
   "outputs": [],
   "source": [
    "from sklearn.model_selection import GridSearchCV\n",
    "\n",
    "# we create a grid using GridSearchCV for each normaliser\n",
    "\n",
    "# first for MinMax Scaler\n",
    "grid_wine_mm = GridSearchCV(pipe_wine_mm, param_grid = param_grid)\n",
    "\n",
    "# then for Standard Scaler\n",
    "grid_wine_std = GridSearchCV(pipe_wine_std, param_grid = param_grid)\n",
    "\n",
    "# and for Robust Scaler\n",
    "grid_wine_rbt = GridSearchCV(pipe_wine_rbt, param_grid = param_grid)"
   ]
  },
  {
   "cell_type": "code",
   "execution_count": 14,
   "id": "41065ec1",
   "metadata": {},
   "outputs": [
    {
     "name": "stdout",
     "output_type": "stream",
     "text": [
      "The error rate for MinMaxScaler with the wine dataset is: \n",
      "0.01538461538461533\n",
      "The error rate for StandardScaler with the wine dataset is: \n",
      "0.015099715099715083\n",
      "The error rate for RobustScaler with the wine dataset is: \n",
      "0.0225071225071225\n"
     ]
    }
   ],
   "source": [
    "# we fit each normaliser varying grid with the test set of wine dataset\n",
    "\n",
    "grid_wine_mm.fit(X_train, y_train)\n",
    "grid_wine_std.fit(X_train, y_train)\n",
    "grid_wine_rbt.fit(X_train, y_train)\n",
    "\n",
    "# print each error rate for each grid using a different normaliser \n",
    "print(\"The error rate for MinMaxScaler with the wine dataset is: \")\n",
    "print(1 - grid_wine_mm.best_score_)\n",
    "print(\"The error rate for StandardScaler with the wine dataset is: \")\n",
    "print(1 - grid_wine_std.best_score_)\n",
    "print(\"The error rate for RobustScaler with the wine dataset is: \")\n",
    "print(1 - grid_wine_rbt.best_score_)"
   ]
  },
  {
   "cell_type": "markdown",
   "id": "7c4c4e36",
   "metadata": {},
   "source": [
    "### Out of all the error rates stated above, making a pipeline using the StandardScaler normaliser and creating a GridSearchCV object using it, then fitting this grid with the wine dataset's training set gives the lowest error rate for predicting test labels.\n",
    "\n",
    "### Therefore, StandardScaler is the most appropriate data normaliser for the wine dataset."
   ]
  },
  {
   "cell_type": "markdown",
   "id": "5e1ffcfc",
   "metadata": {},
   "source": [
    "## We repeat this process for the zip dataset to find the most appropriate normalisation for it:"
   ]
  },
  {
   "cell_type": "code",
   "execution_count": 15,
   "id": "c5b51410",
   "metadata": {},
   "outputs": [],
   "source": [
    "pipe_zip_std = make_pipeline(StandardScaler(), SVC())"
   ]
  },
  {
   "cell_type": "code",
   "execution_count": 16,
   "id": "e875f2ab",
   "metadata": {},
   "outputs": [],
   "source": [
    "# we fit different pipelines with the zip training dataset"
   ]
  },
  {
   "cell_type": "code",
   "execution_count": 17,
   "id": "be58a484",
   "metadata": {},
   "outputs": [],
   "source": [
    "pipe_zip_std.fit(X_zip_train, y_zip_train)\n",
    "\n",
    "# to find the best parameters for SVC we create a  grid of best potential suits\n",
    "\n",
    "param_grid = {\"svc__C\" : [0.1, 1, 10],\n",
    "             \"svc__gamma\" : [0.1, 1, 10]}"
   ]
  },
  {
   "cell_type": "code",
   "execution_count": 18,
   "id": "70985ffe",
   "metadata": {},
   "outputs": [],
   "source": [
    "# we create a grid using GridSearchCV for each normaliser\n",
    "\n",
    "grid_zip_std = GridSearchCV(pipe_zip_std, param_grid = param_grid)"
   ]
  },
  {
   "cell_type": "code",
   "execution_count": 19,
   "id": "5b225694",
   "metadata": {},
   "outputs": [
    {
     "data": {
      "text/plain": [
       "GridSearchCV(estimator=Pipeline(steps=[('standardscaler', StandardScaler()),\n",
       "                                       ('svc', SVC())]),\n",
       "             param_grid={'svc__C': [0.1, 1, 10], 'svc__gamma': [0.1, 1, 10]})"
      ]
     },
     "execution_count": 19,
     "metadata": {},
     "output_type": "execute_result"
    }
   ],
   "source": [
    "grid_zip_std.fit(X_zip_train, y_zip_train)"
   ]
  },
  {
   "cell_type": "code",
   "execution_count": 20,
   "id": "0e75a2a8",
   "metadata": {},
   "outputs": [
    {
     "name": "stdout",
     "output_type": "stream",
     "text": [
      "The error rate for StandardScaler with the zip dataset is: \n",
      "0.6763221795405809\n"
     ]
    }
   ],
   "source": [
    "print(\"The error rate for StandardScaler with the zip dataset is: \")\n",
    "print(1 - grid_zip_std.best_score_)"
   ]
  },
  {
   "cell_type": "code",
   "execution_count": 22,
   "id": "0dfd99b2",
   "metadata": {},
   "outputs": [],
   "source": [
    "pipe_zip_rbt =make_pipeline(RobustScaler(), SVC())\n",
    "\n",
    "pipe_zip_rbt.fit(X_zip_train, y_zip_train)\n",
    "\n",
    "grid_zip_rbt = GridSearchCV(pipe_zip_rbt, param_grid = param_grid)"
   ]
  },
  {
   "cell_type": "code",
   "execution_count": 23,
   "id": "99b9d03f",
   "metadata": {},
   "outputs": [
    {
     "name": "stdout",
     "output_type": "stream",
     "text": [
      "The error rate for RobustScaler with the zip dataset is: \n",
      "0.522444475298643\n"
     ]
    }
   ],
   "source": [
    "grid_zip_rbt.fit(X_zip_train, y_zip_train)\n",
    "\n",
    "print(\"The error rate for RobustScaler with the zip dataset is: \")\n",
    "print(1 - grid_zip_rbt.best_score_)"
   ]
  },
  {
   "cell_type": "code",
   "execution_count": 25,
   "id": "3455203a",
   "metadata": {},
   "outputs": [],
   "source": [
    "pipe_zip_mm = make_pipeline(MinMaxScaler(), SVC())\n",
    "\n",
    "pipe_zip_mm.fit(X_zip_train, y_zip_train)\n",
    "grid_zip_mm = GridSearchCV(pipe_zip_mm, param_grid = param_grid)"
   ]
  },
  {
   "cell_type": "code",
   "execution_count": 26,
   "id": "84b23dd7",
   "metadata": {},
   "outputs": [
    {
     "name": "stdout",
     "output_type": "stream",
     "text": [
      "The error rate for MinMaxScaler with the zip dataset is: \n",
      "0.037286681785223985\n"
     ]
    }
   ],
   "source": [
    "grid_zip_mm.fit(X_zip_train, y_zip_train)\n",
    "print(\"The error rate for MinMaxScaler with the zip dataset is: \")\n",
    "print(1 - grid_zip_mm.best_score_)\n"
   ]
  },
  {
   "cell_type": "markdown",
   "id": "8d4fe830",
   "metadata": {},
   "source": [
    "### The standard scaler and robust scaler when used in the GridSearchCV with pipelines gives extraordinarily high test error rates.\n",
    "\n",
    "### Therefore, MinMax is the most appropriate data normaliser for the zip dataset."
   ]
  },
  {
   "cell_type": "code",
   "execution_count": null,
   "id": "1c3afd34",
   "metadata": {},
   "outputs": [],
   "source": []
  }
 ],
 "metadata": {
  "kernelspec": {
   "display_name": "Python 3 (ipykernel)",
   "language": "python",
   "name": "python3"
  },
  "language_info": {
   "codemirror_mode": {
    "name": "ipython",
    "version": 3
   },
   "file_extension": ".py",
   "mimetype": "text/x-python",
   "name": "python",
   "nbconvert_exporter": "python",
   "pygments_lexer": "ipython3",
   "version": "3.9.13"
  }
 },
 "nbformat": 4,
 "nbformat_minor": 5
}
